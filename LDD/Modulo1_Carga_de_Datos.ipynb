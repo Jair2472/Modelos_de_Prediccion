{
  "nbformat": 4,
  "nbformat_minor": 0,
  "metadata": {
    "colab": {
      "provenance": [],
      "include_colab_link": true
    },
    "kernelspec": {
      "name": "python3",
      "display_name": "Python 3"
    },
    "language_info": {
      "name": "python"
    }
  },
  "cells": [
    {
      "cell_type": "markdown",
      "metadata": {
        "id": "view-in-github",
        "colab_type": "text"
      },
      "source": [
        "<a href=\"https://colab.research.google.com/github/Jair2472/Modelos_de_Prediccion/blob/main/LDD/Modulo1_Carga_de_Datos.ipynb\" target=\"_parent\"><img src=\"https://colab.research.google.com/assets/colab-badge.svg\" alt=\"Open In Colab\"/></a>"
      ]
    },
    {
      "cell_type": "code",
      "execution_count": null,
      "metadata": {
        "id": "HL9KepSz1W71"
      },
      "outputs": [],
      "source": [
        "# MÓDULO 1.3: CARGA DE DATOS\n",
        "\n",
        "import pandas as pd\n",
        "\n",
        "path_tus_datos = '/content/25 BD.csv'\n"
      ]
    },
    {
      "cell_type": "code",
      "source": [
        "print(f\"Intentando cargar datos desde: {path_tus_datos}\")\n",
        "try:\n",
        "    df = pd.read_csv(path_tus_datos)\n",
        "    print(\"¡Tus datos han sido cargados exitosamente!\")\n",
        "except FileNotFoundError:\n",
        "    print(f\"ERROR CRÍTICO: No se encontró el archivo en la ruta: {path_tus_datos}\")\n",
        "    print(\"Por favor, verifica la ruta y el nombre del archivo.\")\n",
        "    df = pd.DataFrame()\n",
        "except Exception as e:\n",
        "    print(f\"Ocurrió un error inesperado al cargar los datos: {e}\")\n",
        "    df = pd.DataFrame()"
      ],
      "metadata": {
        "colab": {
          "base_uri": "https://localhost:8080/"
        },
        "id": "vxwiI1hg2AMk",
        "outputId": "ac55dc8c-cbff-495a-d84b-045a5d66b6a4"
      },
      "execution_count": null,
      "outputs": [
        {
          "output_type": "stream",
          "name": "stdout",
          "text": [
            "Intentando cargar datos desde: /content/250221 BD.csv\n",
            "¡Tus datos han sido cargados exitosamente!\n"
          ]
        }
      ]
    },
    {
      "cell_type": "code",
      "source": [
        "# --- Inspección de los Datos Cargados ---\n",
        "if not df.empty:\n",
        "    print(\"\\n--- Inspección de Tus Datos ---\")\n",
        "    print(\"\\n1. Primeras 5 filas (df.head()):\")\n",
        "    print(df.head())\n",
        "\n",
        "    print(\"\\n2. Últimas 5 filas (df.tail()):\")\n",
        "    print(df.tail())\n",
        "\n",
        "    print(\"\\n3. Dimensiones del DataFrame (filas, columnas) (df.shape):\")\n",
        "    print(df.shape)\n",
        "\n",
        "    print(\"\\n4. Información general (tipos de datos, valores no nulos) (df.info()):\")\n",
        "    df.info()"
      ],
      "metadata": {
        "colab": {
          "base_uri": "https://localhost:8080/"
        },
        "id": "7XKEuCMn2AJ5",
        "outputId": "92fd6f20-1f94-448c-ec24-ca8c8eda9f0b"
      },
      "execution_count": null,
      "outputs": [
        {
          "output_type": "stream",
          "name": "stdout",
          "text": [
            "\n",
            "--- Inspección de Tus Datos ---\n",
            "\n",
            "1. Primeras 5 filas (df.head()):\n",
            "   FiscalYear  Period   Date  Depto    VentasAcum    CostosAcum  IngresosAcum  \\\n",
            "0        2019       1  43402    123   25582.84437   6224.742985   -178.195595   \n",
            "1        2019       1  43403    123   52294.89596  12551.411640   -211.506122   \n",
            "2        2019       1  43404    123   75989.98114  17472.170950   -445.821574   \n",
            "3        2019       1  43405    123  101996.77740  23246.260370   -820.099531   \n",
            "4        2019       1  43406    123  130852.26790  29349.922940  -1185.005452   \n",
            "\n",
            "   MargenFinal%  \n",
            "0      0.200765  \n",
            "1      0.200765  \n",
            "2      0.200765  \n",
            "3      0.200765  \n",
            "4      0.200765  \n",
            "\n",
            "2. Últimas 5 filas (df.tail()):\n",
            "       FiscalYear  Period   Date  Depto   VentasAcum   CostosAcum  \\\n",
            "14599        2023      13  45224    541  44628.57197  24969.70886   \n",
            "14600        2023      13  45225    541  46811.60972  26213.10543   \n",
            "14601        2023      13  45226    541  49249.43409  27618.19465   \n",
            "14602        2023      13  45227    541  52328.13830  29422.55329   \n",
            "14603        2023      13  45228    541  55151.40775  31103.51164   \n",
            "\n",
            "       IngresosAcum  MargenFinal%  \n",
            "14599      0.000000      0.239529  \n",
            "14600   -491.579064      0.239529  \n",
            "14601   -484.048478      0.239529  \n",
            "14602      0.000000      0.239529  \n",
            "14603   -492.465798      0.239529  \n",
            "\n",
            "3. Dimensiones del DataFrame (filas, columnas) (df.shape):\n",
            "(14604, 8)\n",
            "\n",
            "4. Información general (tipos de datos, valores no nulos) (df.info()):\n",
            "<class 'pandas.core.frame.DataFrame'>\n",
            "RangeIndex: 14604 entries, 0 to 14603\n",
            "Data columns (total 8 columns):\n",
            " #   Column        Non-Null Count  Dtype  \n",
            "---  ------        --------------  -----  \n",
            " 0   FiscalYear    14604 non-null  int64  \n",
            " 1   Period        14604 non-null  int64  \n",
            " 2   Date          14604 non-null  int64  \n",
            " 3   Depto         14604 non-null  int64  \n",
            " 4   VentasAcum    14604 non-null  float64\n",
            " 5   CostosAcum    14604 non-null  float64\n",
            " 6   IngresosAcum  14604 non-null  float64\n",
            " 7   MargenFinal%  14604 non-null  float64\n",
            "dtypes: float64(4), int64(4)\n",
            "memory usage: 912.9 KB\n"
          ]
        }
      ]
    },
    {
      "cell_type": "code",
      "source": [
        "    print(\"\\n5. Estadísticas descriptivas (df.describe(include='all')):\")\n",
        "    print(df.describe(include='all'))\n",
        "\n",
        "    print(\"\\n6. Conteo de valores faltantes (NaN) por columna (df.isnull().sum()):\")\n",
        "    print(df.isnull().sum())\n",
        "\n",
        "    print(\"\\n7. Nombres exactos de las columnas leídas por Pandas:\")\n",
        "    print(df.columns.tolist())"
      ],
      "metadata": {
        "colab": {
          "base_uri": "https://localhost:8080/"
        },
        "id": "a7rXWwnZ2ABt",
        "outputId": "ac5cd9fb-c6f4-4fb2-b67a-0d37c327fe3c"
      },
      "execution_count": null,
      "outputs": [
        {
          "output_type": "stream",
          "name": "stdout",
          "text": [
            "\n",
            "5. Estadísticas descriptivas (df.describe(include='all')):\n",
            "         FiscalYear        Period          Date         Depto    VentasAcum  \\\n",
            "count  14604.000000  14604.000000  14604.000000  14604.000000  1.460400e+04   \n",
            "mean    2020.996782      7.026637  44315.328129    342.340797  1.498487e+05   \n",
            "std        1.412975      3.752318    527.396294    126.088215  2.106905e+05   \n",
            "min     2019.000000      1.000000  43402.000000    123.000000  0.000000e+00   \n",
            "25%     2020.000000      4.000000  43859.000000    223.000000  1.971685e+04   \n",
            "50%     2021.000000      7.000000  44315.500000    371.000000  6.522193e+04   \n",
            "75%     2022.000000     10.000000  44772.000000    429.000000  1.814234e+05   \n",
            "max     2023.000000     13.000000  45228.000000    541.000000  2.136533e+06   \n",
            "\n",
            "          CostosAcum  IngresosAcum  MargenFinal%  \n",
            "count   14604.000000  14604.000000  14604.000000  \n",
            "mean    88477.311841  -4006.382091      0.214319  \n",
            "std    104565.155426   6453.490176      0.053616  \n",
            "min         0.000000 -51244.049730     -0.170538  \n",
            "25%     12907.034163  -5345.466240      0.182423  \n",
            "50%     44695.311005   -899.244753      0.214829  \n",
            "75%    124417.724250      0.000000      0.248100  \n",
            "max    583403.334500   6235.712578      0.403637  \n",
            "\n",
            "6. Conteo de valores faltantes (NaN) por columna (df.isnull().sum()):\n",
            "FiscalYear      0\n",
            "Period          0\n",
            "Date            0\n",
            "Depto           0\n",
            "VentasAcum      0\n",
            "CostosAcum      0\n",
            "IngresosAcum    0\n",
            "MargenFinal%    0\n",
            "dtype: int64\n",
            "\n",
            "7. Nombres exactos de las columnas leídas por Pandas:\n",
            "['FiscalYear', 'Period', 'Date', 'Depto', 'VentasAcum', 'CostosAcum', 'IngresosAcum', 'MargenFinal%']\n"
          ]
        }
      ]
    },
    {
      "cell_type": "code",
      "source": [
        "if 'MargenFinal%' in df.columns:\n",
        "    df.rename(columns={'MargenFinal%': 'MargenFinalP'}, inplace=True)\n",
        "    print(\"Nuevos nombres de columnas:\", df.columns.tolist())\n"
      ],
      "metadata": {
        "colab": {
          "base_uri": "https://localhost:8080/"
        },
        "id": "pgAA5fIE2YI0",
        "outputId": "7380947a-772d-4f4c-f281-0d490c314a43"
      },
      "execution_count": null,
      "outputs": [
        {
          "output_type": "stream",
          "name": "stdout",
          "text": [
            "Nuevos nombres de columnas: ['FiscalYear', 'Period', 'Date', 'Depto', 'VentasAcum', 'CostosAcum', 'IngresosAcum', 'MargenFinalP']\n"
          ]
        }
      ]
    },
    {
      "cell_type": "code",
      "source": [],
      "metadata": {
        "id": "NUzt47wu5QAO"
      },
      "execution_count": null,
      "outputs": []
    }
  ]
}