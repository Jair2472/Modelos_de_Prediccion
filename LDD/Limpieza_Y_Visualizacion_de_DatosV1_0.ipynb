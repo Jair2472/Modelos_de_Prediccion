{
  "nbformat": 4,
  "nbformat_minor": 0,
  "metadata": {
    "colab": {
      "provenance": [],
      "include_colab_link": true
    },
    "kernelspec": {
      "name": "python3",
      "display_name": "Python 3"
    },
    "language_info": {
      "name": "python"
    }
  },
  "cells": [
    {
      "cell_type": "markdown",
      "metadata": {
        "id": "view-in-github",
        "colab_type": "text"
      },
      "source": [
        "<a href=\"https://colab.research.google.com/github/Jair2472/Modelos_de_Prediccion/blob/main/LDD/Limpieza_Y_Visualizacion_de_DatosV1_0.ipynb\" target=\"_parent\"><img src=\"https://colab.research.google.com/assets/colab-badge.svg\" alt=\"Open In Colab\"/></a>"
      ]
    },
    {
      "cell_type": "code",
      "source": [
        "import pandas as pd # Importamos la librería pandas, esencial para trabajar con DataFrames\n",
        "\n",
        "import pandas as pd # Importamos la librería pandas, esencial para trabajar con DataFrames\n",
        "\n",
        "# Carga de datos\n",
        "df = pd.read_csv('/content/_BD (2).csv')"
      ],
      "metadata": {
        "id": "FJHKRqv3LdGd"
      },
      "execution_count": null,
      "outputs": []
    },
    {
      "cell_type": "code",
      "source": [
        "# Ahora, hagamos una revisión inicial rápida con pandas\n",
        "print(\"Primeras 5 filas del DataFrame:\")\n",
        "print(df.head()) # Muestra las primeras 5 filas para ver cómo se cargaron los datos."
      ],
      "metadata": {
        "id": "rHChTyMJKpR1",
        "colab": {
          "base_uri": "https://localhost:8080/"
        },
        "outputId": "25a956e4-7920-4097-98cf-1b95fad33825"
      },
      "execution_count": null,
      "outputs": [
        {
          "output_type": "stream",
          "name": "stdout",
          "text": [
            "Primeras 5 filas del DataFrame:\n",
            "   year  Periodo        Date  Departamento    Ventasacum    Costosacum  \\\n",
            "0  2019        1  28/08/2137           123   25582.84437   6224.742985   \n",
            "1  2019        1  29/08/2137           123   52294.89596  12551.411640   \n",
            "2  2019        1  30/08/2137           123   75989.98114  17472.170950   \n",
            "3  2019        1  31/08/2137           123  101996.77740  23246.260370   \n",
            "4  2019        1  01/09/2137           123  130852.26790  29349.922940   \n",
            "\n",
            "   Ingresosacum  MargenPorc  Ajuste_ingreso  Ventas_diarios  Costos_diarios  \\\n",
            "0   -178.195595    0.200765             0.0             NaN             NaN   \n",
            "1   -211.506122    0.200765             0.0     26712.05159     6326.668655   \n",
            "2   -445.821574    0.200765             0.0     23695.08518     4920.759310   \n",
            "3   -820.099531    0.200765             0.0     26006.79626     5774.089420   \n",
            "4  -1185.005452    0.200765             0.0     28855.49050     6103.662570   \n",
            "\n",
            "   Ingresos_diarios  \n",
            "0               NaN  \n",
            "1        -33.310528  \n",
            "2       -234.315452  \n",
            "3       -374.277957  \n",
            "4       -364.905921  \n"
          ]
        }
      ]
    },
    {
      "cell_type": "code",
      "source": [
        "print(\"\\nInformación general del DataFrame:\")\n",
        "print(df.info()) # Muestra el número de filas, columnas, tipos de datos y cuántos valores no son nulos por columna."
      ],
      "metadata": {
        "id": "M409HYgnyRK3",
        "colab": {
          "base_uri": "https://localhost:8080/"
        },
        "outputId": "d4b62f74-724d-4340-9a02-727db06d98ec"
      },
      "execution_count": null,
      "outputs": [
        {
          "output_type": "stream",
          "name": "stdout",
          "text": [
            "\n",
            "Información general del DataFrame:\n",
            "<class 'pandas.core.frame.DataFrame'>\n",
            "RangeIndex: 17528 entries, 0 to 17527\n",
            "Data columns (total 12 columns):\n",
            " #   Column            Non-Null Count  Dtype  \n",
            "---  ------            --------------  -----  \n",
            " 0   year              17528 non-null  int64  \n",
            " 1   Periodo           17528 non-null  int64  \n",
            " 2   Date              17528 non-null  object \n",
            " 3   Departamento      17528 non-null  int64  \n",
            " 4   Ventasacum        17528 non-null  float64\n",
            " 5   Costosacum        17528 non-null  float64\n",
            " 6   Ingresosacum      17528 non-null  float64\n",
            " 7   MargenPorc        17528 non-null  float64\n",
            " 8   Ajuste_ingreso    17528 non-null  float64\n",
            " 9   Ventas_diarios    17520 non-null  float64\n",
            " 10  Costos_diarios    17520 non-null  float64\n",
            " 11  Ingresos_diarios  17520 non-null  float64\n",
            "dtypes: float64(8), int64(3), object(1)\n",
            "memory usage: 1.6+ MB\n",
            "None\n"
          ]
        }
      ]
    },
    {
      "cell_type": "code",
      "source": [
        "print(\"\\nEstadísticas descriptivas básicas:\")\n",
        "print(df.describe()) # Para columnas numéricas, da media, desviación estándar, cuartiles, etc."
      ],
      "metadata": {
        "id": "shsjwD0NyRBu",
        "colab": {
          "base_uri": "https://localhost:8080/"
        },
        "outputId": "18cec7d0-7921-4c11-ec9f-f3cf129482b8"
      },
      "execution_count": null,
      "outputs": [
        {
          "output_type": "stream",
          "name": "stdout",
          "text": [
            "\n",
            "Estadísticas descriptivas básicas:\n",
            "               year       Periodo  Departamento    Ventasacum     Costosacum  \\\n",
            "count  17528.000000  17528.000000  17528.000000  1.752800e+04   17528.000000   \n",
            "mean    2021.495208      7.019169    342.375000  1.600829e+05   95982.880726   \n",
            "std        1.707243      3.751096    126.083866  2.242324e+05  114786.507827   \n",
            "min     2019.000000      1.000000    123.000000  2.472162e+02     197.149503   \n",
            "25%     2020.000000      4.000000    262.750000  2.111071e+04   13963.146508   \n",
            "50%     2021.000000      7.000000    347.000000  6.969962e+04   48144.443020   \n",
            "75%     2023.000000     10.000000    435.000000  1.952431e+05  134596.326200   \n",
            "max     2024.000000     13.000000    541.000000  2.136533e+06  780294.327500   \n",
            "\n",
            "       Ingresosacum    MargenPorc  Ajuste_ingreso  Ventas_diarios  \\\n",
            "count  17528.000000  17528.000000    1.752800e+04    1.752000e+04   \n",
            "mean   -4715.972385      0.215637    2.858564e+03    1.975403e+02   \n",
            "std     7672.528052      0.053137    3.896837e+04    8.714436e+04   \n",
            "min   -68457.010140     -0.170538   -1.280077e+05   -2.074826e+06   \n",
            "25%    -6168.166707      0.183896    0.000000e+00    1.865095e+03   \n",
            "50%    -1104.185102      0.215529    0.000000e+00    5.059341e+03   \n",
            "75%        0.000000      0.248662    0.000000e+00    1.586899e+04   \n",
            "max     6235.712578      0.403637    1.478231e+06    1.213476e+06   \n",
            "\n",
            "       Costos_diarios  Ingresos_diarios  \n",
            "count    17520.000000      17520.000000  \n",
            "mean       122.975749        -12.460011  \n",
            "std      46415.651538       3693.435346  \n",
            "min    -754450.709400     -25998.186720  \n",
            "25%       1095.761613       -495.805985  \n",
            "50%       3854.363488        -98.863005  \n",
            "75%      10768.586032          0.000000  \n",
            "max      88264.407400      55654.043500  \n"
          ]
        }
      ]
    },
    {
      "cell_type": "code",
      "source": [
        "# Ver nulos\n",
        "print(df.isnull().sum())"
      ],
      "metadata": {
        "id": "c9ddNQfK-R7A",
        "colab": {
          "base_uri": "https://localhost:8080/"
        },
        "outputId": "8c77fd0a-c904-44aa-982a-aab9c8f5f174"
      },
      "execution_count": null,
      "outputs": [
        {
          "output_type": "stream",
          "name": "stdout",
          "text": [
            "year                0\n",
            "Periodo             0\n",
            "Date                0\n",
            "Departamento        0\n",
            "Ventasacum          0\n",
            "Costosacum          0\n",
            "Ingresosacum        0\n",
            "MargenPorc          0\n",
            "Ajuste_ingreso      0\n",
            "Ventas_diarios      8\n",
            "Costos_diarios      8\n",
            "Ingresos_diarios    8\n",
            "dtype: int64\n"
          ]
        }
      ]
    },
    {
      "cell_type": "code",
      "source": [
        "df['Date'] = pd.to_datetime(df['Date'], unit='D', origin='29-10-2018')"
      ],
      "metadata": {
        "id": "cp3pX7qFA8iJ",
        "colab": {
          "base_uri": "https://localhost:8080/",
          "height": 477
        },
        "outputId": "ed3cbeac-e10a-4ffe-d679-a32d27433c2e"
      },
      "execution_count": null,
      "outputs": [
        {
          "output_type": "error",
          "ename": "ValueError",
          "evalue": "'0       2137-08-28\n1       2137-08-29\n2       2137-08-30\n3       2137-08-31\n4       2137-09-01\n           ...    \n17523   2143-08-23\n17524   2143-08-24\n17525   2143-08-25\n17526   2143-08-26\n17527   2143-08-27\nName: Date, Length: 17528, dtype: datetime64[ns]' is not compatible with origin='29-10-2018'; it must be numeric with a unit specified",
          "traceback": [
            "\u001b[0;31m---------------------------------------------------------------------------\u001b[0m",
            "\u001b[0;31mValueError\u001b[0m                                Traceback (most recent call last)",
            "\u001b[0;32m<ipython-input-5-ccf92e3ee87a>\u001b[0m in \u001b[0;36m<cell line: 0>\u001b[0;34m()\u001b[0m\n\u001b[0;32m----> 1\u001b[0;31m \u001b[0mdf\u001b[0m\u001b[0;34m[\u001b[0m\u001b[0;34m'Date'\u001b[0m\u001b[0;34m]\u001b[0m \u001b[0;34m=\u001b[0m \u001b[0mpd\u001b[0m\u001b[0;34m.\u001b[0m\u001b[0mto_datetime\u001b[0m\u001b[0;34m(\u001b[0m\u001b[0mdf\u001b[0m\u001b[0;34m[\u001b[0m\u001b[0;34m'Date'\u001b[0m\u001b[0;34m]\u001b[0m\u001b[0;34m,\u001b[0m \u001b[0munit\u001b[0m\u001b[0;34m=\u001b[0m\u001b[0;34m'D'\u001b[0m\u001b[0;34m,\u001b[0m \u001b[0morigin\u001b[0m\u001b[0;34m=\u001b[0m\u001b[0;34m'29-10-2018'\u001b[0m\u001b[0;34m)\u001b[0m\u001b[0;34m\u001b[0m\u001b[0;34m\u001b[0m\u001b[0m\n\u001b[0m",
            "\u001b[0;32m/usr/local/lib/python3.11/dist-packages/pandas/core/tools/datetimes.py\u001b[0m in \u001b[0;36mto_datetime\u001b[0;34m(arg, errors, dayfirst, yearfirst, utc, format, exact, unit, infer_datetime_format, origin, cache)\u001b[0m\n\u001b[1;32m   1039\u001b[0m \u001b[0;34m\u001b[0m\u001b[0m\n\u001b[1;32m   1040\u001b[0m     \u001b[0;32mif\u001b[0m \u001b[0morigin\u001b[0m \u001b[0;34m!=\u001b[0m \u001b[0;34m\"unix\"\u001b[0m\u001b[0;34m:\u001b[0m\u001b[0;34m\u001b[0m\u001b[0;34m\u001b[0m\u001b[0m\n\u001b[0;32m-> 1041\u001b[0;31m         \u001b[0marg\u001b[0m \u001b[0;34m=\u001b[0m \u001b[0m_adjust_to_origin\u001b[0m\u001b[0;34m(\u001b[0m\u001b[0marg\u001b[0m\u001b[0;34m,\u001b[0m \u001b[0morigin\u001b[0m\u001b[0;34m,\u001b[0m \u001b[0munit\u001b[0m\u001b[0;34m)\u001b[0m\u001b[0;34m\u001b[0m\u001b[0;34m\u001b[0m\u001b[0m\n\u001b[0m\u001b[1;32m   1042\u001b[0m \u001b[0;34m\u001b[0m\u001b[0m\n\u001b[1;32m   1043\u001b[0m     convert_listlike = partial(\n",
            "\u001b[0;32m/usr/local/lib/python3.11/dist-packages/pandas/core/tools/datetimes.py\u001b[0m in \u001b[0;36m_adjust_to_origin\u001b[0;34m(arg, origin, unit)\u001b[0m\n\u001b[1;32m    590\u001b[0m             \u001b[0;34m(\u001b[0m\u001b[0mis_integer\u001b[0m\u001b[0;34m(\u001b[0m\u001b[0marg\u001b[0m\u001b[0;34m)\u001b[0m \u001b[0;32mor\u001b[0m \u001b[0mis_float\u001b[0m\u001b[0;34m(\u001b[0m\u001b[0marg\u001b[0m\u001b[0;34m)\u001b[0m\u001b[0;34m)\u001b[0m \u001b[0;32mor\u001b[0m \u001b[0mis_numeric_dtype\u001b[0m\u001b[0;34m(\u001b[0m\u001b[0mnp\u001b[0m\u001b[0;34m.\u001b[0m\u001b[0masarray\u001b[0m\u001b[0;34m(\u001b[0m\u001b[0marg\u001b[0m\u001b[0;34m)\u001b[0m\u001b[0;34m)\u001b[0m\u001b[0;34m\u001b[0m\u001b[0;34m\u001b[0m\u001b[0m\n\u001b[1;32m    591\u001b[0m         ):\n\u001b[0;32m--> 592\u001b[0;31m             raise ValueError(\n\u001b[0m\u001b[1;32m    593\u001b[0m                 \u001b[0;34mf\"'{arg}' is not compatible with origin='{origin}'; \"\u001b[0m\u001b[0;34m\u001b[0m\u001b[0;34m\u001b[0m\u001b[0m\n\u001b[1;32m    594\u001b[0m                 \u001b[0;34m\"it must be numeric with a unit specified\"\u001b[0m\u001b[0;34m\u001b[0m\u001b[0;34m\u001b[0m\u001b[0m\n",
            "\u001b[0;31mValueError\u001b[0m: '0       2137-08-28\n1       2137-08-29\n2       2137-08-30\n3       2137-08-31\n4       2137-09-01\n           ...    \n17523   2143-08-23\n17524   2143-08-24\n17525   2143-08-25\n17526   2143-08-26\n17527   2143-08-27\nName: Date, Length: 17528, dtype: datetime64[ns]' is not compatible with origin='29-10-2018'; it must be numeric with a unit specified"
          ]
        }
      ]
    },
    {
      "cell_type": "code",
      "source": [
        "try:\n",
        "    # Intenta con un formato común DD/MM/YYYY. Si no funciona, ajusta el formato.\n",
        "    df['Date'] = pd.to_datetime(df['Date'], format='%d/%m/%Y', errors='coerce')\n",
        "    print(\"\\nConversión intentada con formato DD/MM/YYYY.\")\n",
        "except ValueError:\n",
        "    # Si el formato anterior falla, podrías intentar inferir o probar otro formato común\n",
        "    print(\"\\nEl formato DD/MM/YYYY no funcionó. Intentando inferir o probar otro formato.\")\n",
        "    # Podrías intentar sin format si el formato es muy variable, pero es menos seguro\n",
        "    df['Date'] = pd.to_datetime(df['Date'], errors='coerce')"
      ],
      "metadata": {
        "colab": {
          "base_uri": "https://localhost:8080/"
        },
        "id": "U3PR4h9vpIJE",
        "outputId": "f3010ca5-ba5d-4417-9eba-d444ccd8145e"
      },
      "execution_count": null,
      "outputs": [
        {
          "output_type": "stream",
          "name": "stdout",
          "text": [
            "\n",
            "Conversión intentada con formato DD/MM/YYYY.\n"
          ]
        }
      ]
    },
    {
      "cell_type": "code",
      "source": [
        "# Tipos de datos\n",
        "print(df.dtypes)"
      ],
      "metadata": {
        "id": "Bojoy7yrKpsv",
        "colab": {
          "base_uri": "https://localhost:8080/"
        },
        "outputId": "ff42ebd9-fcc5-441e-9690-764920f9ea7c"
      },
      "execution_count": null,
      "outputs": [
        {
          "output_type": "stream",
          "name": "stdout",
          "text": [
            "year                         int64\n",
            "Periodo                      int64\n",
            "Date                datetime64[ns]\n",
            "Departamento                 int64\n",
            "Ventasacum                 float64\n",
            "Costosacum                 float64\n",
            "Ingresosacum               float64\n",
            "MargenPorc                 float64\n",
            "Ajuste_ingreso             float64\n",
            "Ventas_diarios             float64\n",
            "Costos_diarios             float64\n",
            "Ingresos_diarios           float64\n",
            "dtype: object\n"
          ]
        }
      ]
    },
    {
      "cell_type": "code",
      "source": [
        "# Ver columnas únicas / categóricas\n",
        "for col in df.select_dtypes(include='object').columns:\n",
        "  print(col, df[col].nunique())"
      ],
      "metadata": {
        "id": "1plOnm6YKpfg"
      },
      "execution_count": null,
      "outputs": []
    },
    {
      "cell_type": "code",
      "source": [
        "df['Date'] = pd.to_datetime(df['Date'], errors='coerce') # Intenta convertir, si falla, pone NaN\n",
        "# Ordenar los datos es FUNDAMENTAL para calcular diferencias diarias\n",
        "df = df.sort_values(by=['Departamento', 'Date'])"
      ],
      "metadata": {
        "id": "Q8A9zWDkxABB"
      },
      "execution_count": null,
      "outputs": []
    },
    {
      "cell_type": "markdown",
      "source": [
        "df = df.sort_values(by=['Depto', 'Date'])\n",
        "# - df.sort_values(): Este método ordena el DataFrame.\n",
        "# - by=['Depto', 'Date']: Le decimos en qué columnas queremos ordenar. Primero por 'Depto' y luego, *dentro de cada departamento*, por 'Date'. Esto asegura que cuando calculemos la diferencia del día anterior, estemos comparando filas del mismo departamento y en orden cronológico.\n",
        "# - df = ...: Asignamos el resultado de la ordenación de nuevo a 'df' para actualizar el DataFrame.\n"
      ],
      "metadata": {
        "id": "9W6GWMaZymM_"
      }
    },
    {
      "cell_type": "code",
      "source": [
        "df.info()"
      ],
      "metadata": {
        "id": "rq1VV12Gy0eM",
        "colab": {
          "base_uri": "https://localhost:8080/"
        },
        "outputId": "86ba6622-5b9c-4c6c-a835-c1e5edc2ed07"
      },
      "execution_count": null,
      "outputs": [
        {
          "output_type": "stream",
          "name": "stdout",
          "text": [
            "<class 'pandas.core.frame.DataFrame'>\n",
            "RangeIndex: 17528 entries, 0 to 17527\n",
            "Data columns (total 12 columns):\n",
            " #   Column            Non-Null Count  Dtype         \n",
            "---  ------            --------------  -----         \n",
            " 0   year              17528 non-null  int64         \n",
            " 1   Periodo           17528 non-null  int64         \n",
            " 2   Date              17528 non-null  datetime64[ns]\n",
            " 3   Departamento      17528 non-null  int64         \n",
            " 4   Ventasacum        17528 non-null  float64       \n",
            " 5   Costosacum        17528 non-null  float64       \n",
            " 6   Ingresosacum      17528 non-null  float64       \n",
            " 7   MargenPorc        17528 non-null  float64       \n",
            " 8   Ajuste_ingreso    17528 non-null  float64       \n",
            " 9   Ventas_diarios    17520 non-null  float64       \n",
            " 10  Costos_diarios    17520 non-null  float64       \n",
            " 11  Ingresos_diarios  17520 non-null  float64       \n",
            "dtypes: datetime64[ns](1), float64(8), int64(3)\n",
            "memory usage: 1.6 MB\n"
          ]
        }
      ]
    },
    {
      "cell_type": "code",
      "source": [
        "# Identificar NaNs después de la conversión de fecha (si usaste errors='coerce')\n",
        "print(\"\\nValores faltantes por columna (después de intentar convertir fechas):\")\n",
        "print(df.isnull().sum())"
      ],
      "metadata": {
        "id": "mkaCOjF4zQEF",
        "outputId": "6e6bed11-96cc-4a95-a234-c5f32cd2e2bd",
        "colab": {
          "base_uri": "https://localhost:8080/"
        }
      },
      "execution_count": null,
      "outputs": [
        {
          "output_type": "stream",
          "name": "stdout",
          "text": [
            "\n",
            "Valores faltantes por columna (después de intentar convertir fechas):\n",
            "year                0\n",
            "Periodo             0\n",
            "Date                0\n",
            "Departamento        0\n",
            "Ventasacum          0\n",
            "Costosacum          0\n",
            "Ingresosacum        0\n",
            "MargenPorc          0\n",
            "Ajuste_ingreso      0\n",
            "Ventas_diarios      8\n",
            "Costos_diarios      8\n",
            "Ingresos_diarios    8\n",
            "dtype: int64\n"
          ]
        }
      ]
    },
    {
      "cell_type": "code",
      "source": [
        "  # Función para rellenar el primer NaN de cada grupo con el primer valor\n",
        "def fill_first_diff_with_first_value(series):\n",
        "    # series es la columna con las diferencias (tiene un NaN al inicio del grupo)\n",
        "    # y la columna original acumulada\n",
        "    return series.fillna(series.iloc[0]) # Rellena el NaN con el primer valor (iloc[0])"
      ],
      "metadata": {
        "id": "GUTIRVrm6wtO"
      },
      "execution_count": null,
      "outputs": []
    },
    {
      "cell_type": "code",
      "source": [
        "df.info()"
      ],
      "metadata": {
        "id": "tutukkaFnHQY",
        "colab": {
          "base_uri": "https://localhost:8080/"
        },
        "outputId": "a553eff6-73b5-4c69-d7fa-0f7efba755ae"
      },
      "execution_count": null,
      "outputs": [
        {
          "output_type": "stream",
          "name": "stdout",
          "text": [
            "<class 'pandas.core.frame.DataFrame'>\n",
            "RangeIndex: 17528 entries, 0 to 17527\n",
            "Data columns (total 12 columns):\n",
            " #   Column            Non-Null Count  Dtype         \n",
            "---  ------            --------------  -----         \n",
            " 0   year              17528 non-null  int64         \n",
            " 1   Periodo           17528 non-null  int64         \n",
            " 2   Date              17528 non-null  datetime64[ns]\n",
            " 3   Departamento      17528 non-null  int64         \n",
            " 4   Ventasacum        17528 non-null  float64       \n",
            " 5   Costosacum        17528 non-null  float64       \n",
            " 6   Ingresosacum      17528 non-null  float64       \n",
            " 7   MargenPorc        17528 non-null  float64       \n",
            " 8   Ajuste_ingreso    17528 non-null  float64       \n",
            " 9   Ventas_diarios    17520 non-null  float64       \n",
            " 10  Costos_diarios    17520 non-null  float64       \n",
            " 11  Ingresos_diarios  17520 non-null  float64       \n",
            "dtypes: datetime64[ns](1), float64(8), int64(3)\n",
            "memory usage: 1.6 MB\n"
          ]
        }
      ]
    },
    {
      "cell_type": "code",
      "source": [
        "# Renombrar columnas\n",
        "df.rename(columns={\n",
        "    'ÿear': 'Year',\n",
        "    'period': 'Periodo',\n",
        "    'date': 'Date',\n",
        "    'depto': 'Departamento',\n",
        "    'ventas': 'Ventasacum',\n",
        "    'costos': 'Costosacum',\n",
        "    'ingresos': 'Ingresosacum',\n",
        "    'margen%': 'MargenPorc',\n",
        "    'ajuste': 'Ajuste_ingreso',\n",
        "    'VentasDiarias_Depto': 'Ventas_diarios',\n",
        "    'CostosDiarias_Depto': 'Costos_diarios',\n",
        "    'IngresosDiarias_Depto': 'Ingresos_diarios'\n",
        "    }, inplace=True)"
      ],
      "metadata": {
        "id": "Vys7mxrZ75HE"
      },
      "execution_count": null,
      "outputs": []
    },
    {
      "cell_type": "code",
      "source": [
        "# Para ver los cambios:\n",
        "df.info() # Muestra las primeras filas con los nombres nuevos\n"
      ],
      "metadata": {
        "colab": {
          "base_uri": "https://localhost:8080/"
        },
        "id": "0mTvMQpDnegQ",
        "outputId": "a5111469-1755-4194-e6af-0b5f3c7d1e36"
      },
      "execution_count": null,
      "outputs": [
        {
          "output_type": "stream",
          "name": "stdout",
          "text": [
            "<class 'pandas.core.frame.DataFrame'>\n",
            "RangeIndex: 17528 entries, 0 to 17527\n",
            "Data columns (total 12 columns):\n",
            " #   Column            Non-Null Count  Dtype         \n",
            "---  ------            --------------  -----         \n",
            " 0   year              17528 non-null  int64         \n",
            " 1   Periodo           17528 non-null  int64         \n",
            " 2   Date              17528 non-null  datetime64[ns]\n",
            " 3   Departamento      17528 non-null  int64         \n",
            " 4   Ventasacum        17528 non-null  float64       \n",
            " 5   Costosacum        17528 non-null  float64       \n",
            " 6   Ingresosacum      17528 non-null  float64       \n",
            " 7   MargenPorc        17528 non-null  float64       \n",
            " 8   Ajuste_ingreso    17528 non-null  float64       \n",
            " 9   Ventas_diarios    17520 non-null  float64       \n",
            " 10  Costos_diarios    17520 non-null  float64       \n",
            " 11  Ingresos_diarios  17520 non-null  float64       \n",
            "dtypes: datetime64[ns](1), float64(8), int64(3)\n",
            "memory usage: 1.6 MB\n"
          ]
        }
      ]
    },
    {
      "cell_type": "markdown",
      "source": [
        "HASTA ESTE PUNTO TENGO LA CONVERSION DE VENTAS, COSTOS, INGRESOS DIARIOS"
      ],
      "metadata": {
        "id": "BhbukNvPyFGj"
      }
    },
    {
      "cell_type": "code",
      "source": [
        "from google.colab import files\n",
        "\n",
        "nombre_dataframe_a_exportar = df\n",
        "datasetheb_csv = '250520_BD(2).csv'\n",
        "# 3. Convertir el DataFrame a CSV\n",
        "nombre_dataframe_a_exportar.to_csv(datasetheb_csv, index=False)\n",
        "\n",
        "# 4. Iniciar la descarga\n",
        "files.download(datasetheb_csv)\n",
        "\n",
        "print(f\"Se ha iniciado la descarga del archivo '{datasetheb_csv}'.\")\n",
        "print(\"Revisa la carpeta de descargas de tu navegador.\")"
      ],
      "metadata": {
        "id": "uKJBiVchzs8P"
      },
      "execution_count": null,
      "outputs": []
    },
    {
      "cell_type": "code",
      "source": [
        "df.head()"
      ],
      "metadata": {
        "id": "R6GQII8e0F4f",
        "colab": {
          "base_uri": "https://localhost:8080/",
          "height": 206
        },
        "outputId": "bbe86455-6e0f-49e5-e54a-0a1bc7ad7c08"
      },
      "execution_count": null,
      "outputs": [
        {
          "output_type": "execute_result",
          "data": {
            "text/plain": [
              "   year  Periodo       Date  Departamento    Ventasacum    Costosacum  \\\n",
              "0  2019        1 2137-08-28           123   25582.84437   6224.742985   \n",
              "1  2019        1 2137-08-29           123   52294.89596  12551.411640   \n",
              "2  2019        1 2137-08-30           123   75989.98114  17472.170950   \n",
              "3  2019        1 2137-08-31           123  101996.77740  23246.260370   \n",
              "4  2019        1 2137-09-01           123  130852.26790  29349.922940   \n",
              "\n",
              "   Ingresosacum  MargenPorc  Ajuste_ingreso  Ventas_diarios  Costos_diarios  \\\n",
              "0   -178.195595    0.200765             0.0             NaN             NaN   \n",
              "1   -211.506122    0.200765             0.0     26712.05159     6326.668655   \n",
              "2   -445.821574    0.200765             0.0     23695.08518     4920.759310   \n",
              "3   -820.099531    0.200765             0.0     26006.79626     5774.089420   \n",
              "4  -1185.005452    0.200765             0.0     28855.49050     6103.662570   \n",
              "\n",
              "   Ingresos_diarios  \n",
              "0               NaN  \n",
              "1        -33.310528  \n",
              "2       -234.315452  \n",
              "3       -374.277957  \n",
              "4       -364.905921  "
            ],
            "text/html": [
              "\n",
              "  <div id=\"df-b8d14976-b076-4c67-85b6-bd8df842eb08\" class=\"colab-df-container\">\n",
              "    <div>\n",
              "<style scoped>\n",
              "    .dataframe tbody tr th:only-of-type {\n",
              "        vertical-align: middle;\n",
              "    }\n",
              "\n",
              "    .dataframe tbody tr th {\n",
              "        vertical-align: top;\n",
              "    }\n",
              "\n",
              "    .dataframe thead th {\n",
              "        text-align: right;\n",
              "    }\n",
              "</style>\n",
              "<table border=\"1\" class=\"dataframe\">\n",
              "  <thead>\n",
              "    <tr style=\"text-align: right;\">\n",
              "      <th></th>\n",
              "      <th>year</th>\n",
              "      <th>Periodo</th>\n",
              "      <th>Date</th>\n",
              "      <th>Departamento</th>\n",
              "      <th>Ventasacum</th>\n",
              "      <th>Costosacum</th>\n",
              "      <th>Ingresosacum</th>\n",
              "      <th>MargenPorc</th>\n",
              "      <th>Ajuste_ingreso</th>\n",
              "      <th>Ventas_diarios</th>\n",
              "      <th>Costos_diarios</th>\n",
              "      <th>Ingresos_diarios</th>\n",
              "    </tr>\n",
              "  </thead>\n",
              "  <tbody>\n",
              "    <tr>\n",
              "      <th>0</th>\n",
              "      <td>2019</td>\n",
              "      <td>1</td>\n",
              "      <td>2137-08-28</td>\n",
              "      <td>123</td>\n",
              "      <td>25582.84437</td>\n",
              "      <td>6224.742985</td>\n",
              "      <td>-178.195595</td>\n",
              "      <td>0.200765</td>\n",
              "      <td>0.0</td>\n",
              "      <td>NaN</td>\n",
              "      <td>NaN</td>\n",
              "      <td>NaN</td>\n",
              "    </tr>\n",
              "    <tr>\n",
              "      <th>1</th>\n",
              "      <td>2019</td>\n",
              "      <td>1</td>\n",
              "      <td>2137-08-29</td>\n",
              "      <td>123</td>\n",
              "      <td>52294.89596</td>\n",
              "      <td>12551.411640</td>\n",
              "      <td>-211.506122</td>\n",
              "      <td>0.200765</td>\n",
              "      <td>0.0</td>\n",
              "      <td>26712.05159</td>\n",
              "      <td>6326.668655</td>\n",
              "      <td>-33.310528</td>\n",
              "    </tr>\n",
              "    <tr>\n",
              "      <th>2</th>\n",
              "      <td>2019</td>\n",
              "      <td>1</td>\n",
              "      <td>2137-08-30</td>\n",
              "      <td>123</td>\n",
              "      <td>75989.98114</td>\n",
              "      <td>17472.170950</td>\n",
              "      <td>-445.821574</td>\n",
              "      <td>0.200765</td>\n",
              "      <td>0.0</td>\n",
              "      <td>23695.08518</td>\n",
              "      <td>4920.759310</td>\n",
              "      <td>-234.315452</td>\n",
              "    </tr>\n",
              "    <tr>\n",
              "      <th>3</th>\n",
              "      <td>2019</td>\n",
              "      <td>1</td>\n",
              "      <td>2137-08-31</td>\n",
              "      <td>123</td>\n",
              "      <td>101996.77740</td>\n",
              "      <td>23246.260370</td>\n",
              "      <td>-820.099531</td>\n",
              "      <td>0.200765</td>\n",
              "      <td>0.0</td>\n",
              "      <td>26006.79626</td>\n",
              "      <td>5774.089420</td>\n",
              "      <td>-374.277957</td>\n",
              "    </tr>\n",
              "    <tr>\n",
              "      <th>4</th>\n",
              "      <td>2019</td>\n",
              "      <td>1</td>\n",
              "      <td>2137-09-01</td>\n",
              "      <td>123</td>\n",
              "      <td>130852.26790</td>\n",
              "      <td>29349.922940</td>\n",
              "      <td>-1185.005452</td>\n",
              "      <td>0.200765</td>\n",
              "      <td>0.0</td>\n",
              "      <td>28855.49050</td>\n",
              "      <td>6103.662570</td>\n",
              "      <td>-364.905921</td>\n",
              "    </tr>\n",
              "  </tbody>\n",
              "</table>\n",
              "</div>\n",
              "    <div class=\"colab-df-buttons\">\n",
              "\n",
              "  <div class=\"colab-df-container\">\n",
              "    <button class=\"colab-df-convert\" onclick=\"convertToInteractive('df-b8d14976-b076-4c67-85b6-bd8df842eb08')\"\n",
              "            title=\"Convert this dataframe to an interactive table.\"\n",
              "            style=\"display:none;\">\n",
              "\n",
              "  <svg xmlns=\"http://www.w3.org/2000/svg\" height=\"24px\" viewBox=\"0 -960 960 960\">\n",
              "    <path d=\"M120-120v-720h720v720H120Zm60-500h600v-160H180v160Zm220 220h160v-160H400v160Zm0 220h160v-160H400v160ZM180-400h160v-160H180v160Zm440 0h160v-160H620v160ZM180-180h160v-160H180v160Zm440 0h160v-160H620v160Z\"/>\n",
              "  </svg>\n",
              "    </button>\n",
              "\n",
              "  <style>\n",
              "    .colab-df-container {\n",
              "      display:flex;\n",
              "      gap: 12px;\n",
              "    }\n",
              "\n",
              "    .colab-df-convert {\n",
              "      background-color: #E8F0FE;\n",
              "      border: none;\n",
              "      border-radius: 50%;\n",
              "      cursor: pointer;\n",
              "      display: none;\n",
              "      fill: #1967D2;\n",
              "      height: 32px;\n",
              "      padding: 0 0 0 0;\n",
              "      width: 32px;\n",
              "    }\n",
              "\n",
              "    .colab-df-convert:hover {\n",
              "      background-color: #E2EBFA;\n",
              "      box-shadow: 0px 1px 2px rgba(60, 64, 67, 0.3), 0px 1px 3px 1px rgba(60, 64, 67, 0.15);\n",
              "      fill: #174EA6;\n",
              "    }\n",
              "\n",
              "    .colab-df-buttons div {\n",
              "      margin-bottom: 4px;\n",
              "    }\n",
              "\n",
              "    [theme=dark] .colab-df-convert {\n",
              "      background-color: #3B4455;\n",
              "      fill: #D2E3FC;\n",
              "    }\n",
              "\n",
              "    [theme=dark] .colab-df-convert:hover {\n",
              "      background-color: #434B5C;\n",
              "      box-shadow: 0px 1px 3px 1px rgba(0, 0, 0, 0.15);\n",
              "      filter: drop-shadow(0px 1px 2px rgba(0, 0, 0, 0.3));\n",
              "      fill: #FFFFFF;\n",
              "    }\n",
              "  </style>\n",
              "\n",
              "    <script>\n",
              "      const buttonEl =\n",
              "        document.querySelector('#df-b8d14976-b076-4c67-85b6-bd8df842eb08 button.colab-df-convert');\n",
              "      buttonEl.style.display =\n",
              "        google.colab.kernel.accessAllowed ? 'block' : 'none';\n",
              "\n",
              "      async function convertToInteractive(key) {\n",
              "        const element = document.querySelector('#df-b8d14976-b076-4c67-85b6-bd8df842eb08');\n",
              "        const dataTable =\n",
              "          await google.colab.kernel.invokeFunction('convertToInteractive',\n",
              "                                                    [key], {});\n",
              "        if (!dataTable) return;\n",
              "\n",
              "        const docLinkHtml = 'Like what you see? Visit the ' +\n",
              "          '<a target=\"_blank\" href=https://colab.research.google.com/notebooks/data_table.ipynb>data table notebook</a>'\n",
              "          + ' to learn more about interactive tables.';\n",
              "        element.innerHTML = '';\n",
              "        dataTable['output_type'] = 'display_data';\n",
              "        await google.colab.output.renderOutput(dataTable, element);\n",
              "        const docLink = document.createElement('div');\n",
              "        docLink.innerHTML = docLinkHtml;\n",
              "        element.appendChild(docLink);\n",
              "      }\n",
              "    </script>\n",
              "  </div>\n",
              "\n",
              "\n",
              "    <div id=\"df-9ff9788a-8677-484a-a75e-43641faf3293\">\n",
              "      <button class=\"colab-df-quickchart\" onclick=\"quickchart('df-9ff9788a-8677-484a-a75e-43641faf3293')\"\n",
              "                title=\"Suggest charts\"\n",
              "                style=\"display:none;\">\n",
              "\n",
              "<svg xmlns=\"http://www.w3.org/2000/svg\" height=\"24px\"viewBox=\"0 0 24 24\"\n",
              "     width=\"24px\">\n",
              "    <g>\n",
              "        <path d=\"M19 3H5c-1.1 0-2 .9-2 2v14c0 1.1.9 2 2 2h14c1.1 0 2-.9 2-2V5c0-1.1-.9-2-2-2zM9 17H7v-7h2v7zm4 0h-2V7h2v10zm4 0h-2v-4h2v4z\"/>\n",
              "    </g>\n",
              "</svg>\n",
              "      </button>\n",
              "\n",
              "<style>\n",
              "  .colab-df-quickchart {\n",
              "      --bg-color: #E8F0FE;\n",
              "      --fill-color: #1967D2;\n",
              "      --hover-bg-color: #E2EBFA;\n",
              "      --hover-fill-color: #174EA6;\n",
              "      --disabled-fill-color: #AAA;\n",
              "      --disabled-bg-color: #DDD;\n",
              "  }\n",
              "\n",
              "  [theme=dark] .colab-df-quickchart {\n",
              "      --bg-color: #3B4455;\n",
              "      --fill-color: #D2E3FC;\n",
              "      --hover-bg-color: #434B5C;\n",
              "      --hover-fill-color: #FFFFFF;\n",
              "      --disabled-bg-color: #3B4455;\n",
              "      --disabled-fill-color: #666;\n",
              "  }\n",
              "\n",
              "  .colab-df-quickchart {\n",
              "    background-color: var(--bg-color);\n",
              "    border: none;\n",
              "    border-radius: 50%;\n",
              "    cursor: pointer;\n",
              "    display: none;\n",
              "    fill: var(--fill-color);\n",
              "    height: 32px;\n",
              "    padding: 0;\n",
              "    width: 32px;\n",
              "  }\n",
              "\n",
              "  .colab-df-quickchart:hover {\n",
              "    background-color: var(--hover-bg-color);\n",
              "    box-shadow: 0 1px 2px rgba(60, 64, 67, 0.3), 0 1px 3px 1px rgba(60, 64, 67, 0.15);\n",
              "    fill: var(--button-hover-fill-color);\n",
              "  }\n",
              "\n",
              "  .colab-df-quickchart-complete:disabled,\n",
              "  .colab-df-quickchart-complete:disabled:hover {\n",
              "    background-color: var(--disabled-bg-color);\n",
              "    fill: var(--disabled-fill-color);\n",
              "    box-shadow: none;\n",
              "  }\n",
              "\n",
              "  .colab-df-spinner {\n",
              "    border: 2px solid var(--fill-color);\n",
              "    border-color: transparent;\n",
              "    border-bottom-color: var(--fill-color);\n",
              "    animation:\n",
              "      spin 1s steps(1) infinite;\n",
              "  }\n",
              "\n",
              "  @keyframes spin {\n",
              "    0% {\n",
              "      border-color: transparent;\n",
              "      border-bottom-color: var(--fill-color);\n",
              "      border-left-color: var(--fill-color);\n",
              "    }\n",
              "    20% {\n",
              "      border-color: transparent;\n",
              "      border-left-color: var(--fill-color);\n",
              "      border-top-color: var(--fill-color);\n",
              "    }\n",
              "    30% {\n",
              "      border-color: transparent;\n",
              "      border-left-color: var(--fill-color);\n",
              "      border-top-color: var(--fill-color);\n",
              "      border-right-color: var(--fill-color);\n",
              "    }\n",
              "    40% {\n",
              "      border-color: transparent;\n",
              "      border-right-color: var(--fill-color);\n",
              "      border-top-color: var(--fill-color);\n",
              "    }\n",
              "    60% {\n",
              "      border-color: transparent;\n",
              "      border-right-color: var(--fill-color);\n",
              "    }\n",
              "    80% {\n",
              "      border-color: transparent;\n",
              "      border-right-color: var(--fill-color);\n",
              "      border-bottom-color: var(--fill-color);\n",
              "    }\n",
              "    90% {\n",
              "      border-color: transparent;\n",
              "      border-bottom-color: var(--fill-color);\n",
              "    }\n",
              "  }\n",
              "</style>\n",
              "\n",
              "      <script>\n",
              "        async function quickchart(key) {\n",
              "          const quickchartButtonEl =\n",
              "            document.querySelector('#' + key + ' button');\n",
              "          quickchartButtonEl.disabled = true;  // To prevent multiple clicks.\n",
              "          quickchartButtonEl.classList.add('colab-df-spinner');\n",
              "          try {\n",
              "            const charts = await google.colab.kernel.invokeFunction(\n",
              "                'suggestCharts', [key], {});\n",
              "          } catch (error) {\n",
              "            console.error('Error during call to suggestCharts:', error);\n",
              "          }\n",
              "          quickchartButtonEl.classList.remove('colab-df-spinner');\n",
              "          quickchartButtonEl.classList.add('colab-df-quickchart-complete');\n",
              "        }\n",
              "        (() => {\n",
              "          let quickchartButtonEl =\n",
              "            document.querySelector('#df-9ff9788a-8677-484a-a75e-43641faf3293 button');\n",
              "          quickchartButtonEl.style.display =\n",
              "            google.colab.kernel.accessAllowed ? 'block' : 'none';\n",
              "        })();\n",
              "      </script>\n",
              "    </div>\n",
              "\n",
              "    </div>\n",
              "  </div>\n"
            ],
            "application/vnd.google.colaboratory.intrinsic+json": {
              "type": "dataframe",
              "variable_name": "df",
              "summary": "{\n  \"name\": \"df\",\n  \"rows\": 17528,\n  \"fields\": [\n    {\n      \"column\": \"year\",\n      \"properties\": {\n        \"dtype\": \"number\",\n        \"std\": 1,\n        \"min\": 2019,\n        \"max\": 2024,\n        \"num_unique_values\": 6,\n        \"samples\": [\n          2019,\n          2020,\n          2024\n        ],\n        \"semantic_type\": \"\",\n        \"description\": \"\"\n      }\n    },\n    {\n      \"column\": \"Periodo\",\n      \"properties\": {\n        \"dtype\": \"number\",\n        \"std\": 3,\n        \"min\": 1,\n        \"max\": 13,\n        \"num_unique_values\": 13,\n        \"samples\": [\n          12,\n          10,\n          1\n        ],\n        \"semantic_type\": \"\",\n        \"description\": \"\"\n      }\n    },\n    {\n      \"column\": \"Date\",\n      \"properties\": {\n        \"dtype\": \"date\",\n        \"min\": \"2137-08-28 00:00:00\",\n        \"max\": \"2143-08-27 00:00:00\",\n        \"num_unique_values\": 2191,\n        \"samples\": [\n          \"2138-09-14 00:00:00\",\n          \"2139-05-22 00:00:00\",\n          \"2142-03-25 00:00:00\"\n        ],\n        \"semantic_type\": \"\",\n        \"description\": \"\"\n      }\n    },\n    {\n      \"column\": \"Departamento\",\n      \"properties\": {\n        \"dtype\": \"number\",\n        \"std\": 126,\n        \"min\": 123,\n        \"max\": 541,\n        \"num_unique_values\": 8,\n        \"samples\": [\n          223,\n          429,\n          123\n        ],\n        \"semantic_type\": \"\",\n        \"description\": \"\"\n      }\n    },\n    {\n      \"column\": \"Ventasacum\",\n      \"properties\": {\n        \"dtype\": \"number\",\n        \"std\": 224232.39631238824,\n        \"min\": 247.2162259,\n        \"max\": 2136533.001,\n        \"num_unique_values\": 17480,\n        \"samples\": [\n          277785.6246,\n          409075.2864,\n          719027.5092\n        ],\n        \"semantic_type\": \"\",\n        \"description\": \"\"\n      }\n    },\n    {\n      \"column\": \"Costosacum\",\n      \"properties\": {\n        \"dtype\": \"number\",\n        \"std\": 114786.50782665002,\n        \"min\": 197.1495029,\n        \"max\": 780294.3275,\n        \"num_unique_values\": 17480,\n        \"samples\": [\n          235625.1709,\n          356231.2597,\n          159852.6747\n        ],\n        \"semantic_type\": \"\",\n        \"description\": \"\"\n      }\n    },\n    {\n      \"column\": \"Ingresosacum\",\n      \"properties\": {\n        \"dtype\": \"number\",\n        \"std\": 7672.52805185895,\n        \"min\": -68457.01014,\n        \"max\": 6235.712578,\n        \"num_unique_values\": 13037,\n        \"samples\": [\n          -15373.20092,\n          -4522.612048,\n          -4511.32426\n        ],\n        \"semantic_type\": \"\",\n        \"description\": \"\"\n      }\n    },\n    {\n      \"column\": \"MargenPorc\",\n      \"properties\": {\n        \"dtype\": \"number\",\n        \"std\": 0.053136589418611845,\n        \"min\": -0.170538437,\n        \"max\": 0.403636584,\n        \"num_unique_values\": 624,\n        \"samples\": [\n          0.172013706,\n          0.149054908,\n          0.254917437\n        ],\n        \"semantic_type\": \"\",\n        \"description\": \"\"\n      }\n    },\n    {\n      \"column\": \"Ajuste_ingreso\",\n      \"properties\": {\n        \"dtype\": \"number\",\n        \"std\": 38968.37063245701,\n        \"min\": -128007.6799,\n        \"max\": 1478230.833,\n        \"num_unique_values\": 625,\n        \"samples\": [\n          12237.26372,\n          8504.352627,\n          779.8639869\n        ],\n        \"semantic_type\": \"\",\n        \"description\": \"\"\n      }\n    },\n    {\n      \"column\": \"Ventas_diarios\",\n      \"properties\": {\n        \"dtype\": \"number\",\n        \"std\": 87144.35984694585,\n        \"min\": -2074825.561,\n        \"max\": 1213475.509,\n        \"num_unique_values\": 17473,\n        \"samples\": [\n          2760.694671,\n          16084.318,\n          21495.1853\n        ],\n        \"semantic_type\": \"\",\n        \"description\": \"\"\n      }\n    },\n    {\n      \"column\": \"Costos_diarios\",\n      \"properties\": {\n        \"dtype\": \"number\",\n        \"std\": 46415.651537696824,\n        \"min\": -754450.7094,\n        \"max\": 88264.4074,\n        \"num_unique_values\": 17473,\n        \"samples\": [\n          1584.577307,\n          14362.8733,\n          4787.5183\n        ],\n        \"semantic_type\": \"\",\n        \"description\": \"\"\n      }\n    },\n    {\n      \"column\": \"Ingresos_diarios\",\n      \"properties\": {\n        \"dtype\": \"number\",\n        \"std\": 3693.4353455991113,\n        \"min\": -25998.18672,\n        \"max\": 55654.0435,\n        \"num_unique_values\": 14189,\n        \"samples\": [\n          -205.4759603,\n          -10812.22964,\n          -10.82220862\n        ],\n        \"semantic_type\": \"\",\n        \"description\": \"\"\n      }\n    }\n  ]\n}"
            }
          },
          "metadata": {},
          "execution_count": 51
        }
      ]
    },
    {
      "cell_type": "code",
      "source": [
        "# Calcular la variable objetivo: Margen Bruto Diario de la Compañía\n",
        "df['Margen_diario'] = df[' Ventas_diarios'] - df['Costos_diarios'] + df['Ingresos_diarios']"
      ],
      "metadata": {
        "id": "KnfUpZVE8GRt",
        "colab": {
          "base_uri": "https://localhost:8080/",
          "height": 547
        },
        "outputId": "1b039b11-9301-430c-9687-9c600561dfe7"
      },
      "execution_count": null,
      "outputs": [
        {
          "output_type": "error",
          "ename": "KeyError",
          "evalue": "' Ventas_diarios'",
          "traceback": [
            "\u001b[0;31m---------------------------------------------------------------------------\u001b[0m",
            "\u001b[0;31mKeyError\u001b[0m                                  Traceback (most recent call last)",
            "\u001b[0;32m/usr/local/lib/python3.11/dist-packages/pandas/core/indexes/base.py\u001b[0m in \u001b[0;36mget_loc\u001b[0;34m(self, key)\u001b[0m\n\u001b[1;32m   3804\u001b[0m         \u001b[0;32mtry\u001b[0m\u001b[0;34m:\u001b[0m\u001b[0;34m\u001b[0m\u001b[0;34m\u001b[0m\u001b[0m\n\u001b[0;32m-> 3805\u001b[0;31m             \u001b[0;32mreturn\u001b[0m \u001b[0mself\u001b[0m\u001b[0;34m.\u001b[0m\u001b[0m_engine\u001b[0m\u001b[0;34m.\u001b[0m\u001b[0mget_loc\u001b[0m\u001b[0;34m(\u001b[0m\u001b[0mcasted_key\u001b[0m\u001b[0;34m)\u001b[0m\u001b[0;34m\u001b[0m\u001b[0;34m\u001b[0m\u001b[0m\n\u001b[0m\u001b[1;32m   3806\u001b[0m         \u001b[0;32mexcept\u001b[0m \u001b[0mKeyError\u001b[0m \u001b[0;32mas\u001b[0m \u001b[0merr\u001b[0m\u001b[0;34m:\u001b[0m\u001b[0;34m\u001b[0m\u001b[0;34m\u001b[0m\u001b[0m\n",
            "\u001b[0;32mindex.pyx\u001b[0m in \u001b[0;36mpandas._libs.index.IndexEngine.get_loc\u001b[0;34m()\u001b[0m\n",
            "\u001b[0;32mindex.pyx\u001b[0m in \u001b[0;36mpandas._libs.index.IndexEngine.get_loc\u001b[0;34m()\u001b[0m\n",
            "\u001b[0;32mpandas/_libs/hashtable_class_helper.pxi\u001b[0m in \u001b[0;36mpandas._libs.hashtable.PyObjectHashTable.get_item\u001b[0;34m()\u001b[0m\n",
            "\u001b[0;32mpandas/_libs/hashtable_class_helper.pxi\u001b[0m in \u001b[0;36mpandas._libs.hashtable.PyObjectHashTable.get_item\u001b[0;34m()\u001b[0m\n",
            "\u001b[0;31mKeyError\u001b[0m: ' Ventas_diarios'",
            "\nThe above exception was the direct cause of the following exception:\n",
            "\u001b[0;31mKeyError\u001b[0m                                  Traceback (most recent call last)",
            "\u001b[0;32m<ipython-input-55-9780b1529aa8>\u001b[0m in \u001b[0;36m<cell line: 0>\u001b[0;34m()\u001b[0m\n\u001b[1;32m      1\u001b[0m \u001b[0;31m# Calcular la variable objetivo: Margen Bruto Diario de la Compañía\u001b[0m\u001b[0;34m\u001b[0m\u001b[0;34m\u001b[0m\u001b[0m\n\u001b[0;32m----> 2\u001b[0;31m \u001b[0mdf\u001b[0m\u001b[0;34m[\u001b[0m\u001b[0;34m'MargenPorc'\u001b[0m\u001b[0;34m]\u001b[0m \u001b[0;34m=\u001b[0m \u001b[0mdf\u001b[0m\u001b[0;34m[\u001b[0m\u001b[0;34m' Ventas_diarios'\u001b[0m\u001b[0;34m]\u001b[0m \u001b[0;34m-\u001b[0m \u001b[0mdf\u001b[0m\u001b[0;34m[\u001b[0m\u001b[0;34m'Costos_diarios'\u001b[0m\u001b[0;34m]\u001b[0m \u001b[0;34m+\u001b[0m \u001b[0mdf\u001b[0m\u001b[0;34m[\u001b[0m\u001b[0;34m'Ingresos_diarios'\u001b[0m\u001b[0;34m]\u001b[0m\u001b[0;34m\u001b[0m\u001b[0;34m\u001b[0m\u001b[0m\n\u001b[0m",
            "\u001b[0;32m/usr/local/lib/python3.11/dist-packages/pandas/core/frame.py\u001b[0m in \u001b[0;36m__getitem__\u001b[0;34m(self, key)\u001b[0m\n\u001b[1;32m   4100\u001b[0m             \u001b[0;32mif\u001b[0m \u001b[0mself\u001b[0m\u001b[0;34m.\u001b[0m\u001b[0mcolumns\u001b[0m\u001b[0;34m.\u001b[0m\u001b[0mnlevels\u001b[0m \u001b[0;34m>\u001b[0m \u001b[0;36m1\u001b[0m\u001b[0;34m:\u001b[0m\u001b[0;34m\u001b[0m\u001b[0;34m\u001b[0m\u001b[0m\n\u001b[1;32m   4101\u001b[0m                 \u001b[0;32mreturn\u001b[0m \u001b[0mself\u001b[0m\u001b[0;34m.\u001b[0m\u001b[0m_getitem_multilevel\u001b[0m\u001b[0;34m(\u001b[0m\u001b[0mkey\u001b[0m\u001b[0;34m)\u001b[0m\u001b[0;34m\u001b[0m\u001b[0;34m\u001b[0m\u001b[0m\n\u001b[0;32m-> 4102\u001b[0;31m             \u001b[0mindexer\u001b[0m \u001b[0;34m=\u001b[0m \u001b[0mself\u001b[0m\u001b[0;34m.\u001b[0m\u001b[0mcolumns\u001b[0m\u001b[0;34m.\u001b[0m\u001b[0mget_loc\u001b[0m\u001b[0;34m(\u001b[0m\u001b[0mkey\u001b[0m\u001b[0;34m)\u001b[0m\u001b[0;34m\u001b[0m\u001b[0;34m\u001b[0m\u001b[0m\n\u001b[0m\u001b[1;32m   4103\u001b[0m             \u001b[0;32mif\u001b[0m \u001b[0mis_integer\u001b[0m\u001b[0;34m(\u001b[0m\u001b[0mindexer\u001b[0m\u001b[0;34m)\u001b[0m\u001b[0;34m:\u001b[0m\u001b[0;34m\u001b[0m\u001b[0;34m\u001b[0m\u001b[0m\n\u001b[1;32m   4104\u001b[0m                 \u001b[0mindexer\u001b[0m \u001b[0;34m=\u001b[0m \u001b[0;34m[\u001b[0m\u001b[0mindexer\u001b[0m\u001b[0;34m]\u001b[0m\u001b[0;34m\u001b[0m\u001b[0;34m\u001b[0m\u001b[0m\n",
            "\u001b[0;32m/usr/local/lib/python3.11/dist-packages/pandas/core/indexes/base.py\u001b[0m in \u001b[0;36mget_loc\u001b[0;34m(self, key)\u001b[0m\n\u001b[1;32m   3810\u001b[0m             ):\n\u001b[1;32m   3811\u001b[0m                 \u001b[0;32mraise\u001b[0m \u001b[0mInvalidIndexError\u001b[0m\u001b[0;34m(\u001b[0m\u001b[0mkey\u001b[0m\u001b[0;34m)\u001b[0m\u001b[0;34m\u001b[0m\u001b[0;34m\u001b[0m\u001b[0m\n\u001b[0;32m-> 3812\u001b[0;31m             \u001b[0;32mraise\u001b[0m \u001b[0mKeyError\u001b[0m\u001b[0;34m(\u001b[0m\u001b[0mkey\u001b[0m\u001b[0;34m)\u001b[0m \u001b[0;32mfrom\u001b[0m \u001b[0merr\u001b[0m\u001b[0;34m\u001b[0m\u001b[0;34m\u001b[0m\u001b[0m\n\u001b[0m\u001b[1;32m   3813\u001b[0m         \u001b[0;32mexcept\u001b[0m \u001b[0mTypeError\u001b[0m\u001b[0;34m:\u001b[0m\u001b[0;34m\u001b[0m\u001b[0;34m\u001b[0m\u001b[0m\n\u001b[1;32m   3814\u001b[0m             \u001b[0;31m# If we have a listlike key, _check_indexing_error will raise\u001b[0m\u001b[0;34m\u001b[0m\u001b[0;34m\u001b[0m\u001b[0m\n",
            "\u001b[0;31mKeyError\u001b[0m: ' Ventas_diarios'"
          ]
        }
      ]
    },
    {
      "cell_type": "code",
      "source": [
        "# Calcular el porcentaje de margen diario (si también lo quieres como feature o para análisis)\n",
        "# Hay que tener cuidado si VentasDiarias_Compañia + IngresosDiarias_Compañia es cero o muy cercano a cero.\n",
        "df['MargenBrutoDiario_%_Compañia'] = (df['MargenBruto_diario'] / (df['Ventas_diarios'] + df['Ingresos_diarios'])) * 100"
      ],
      "metadata": {
        "id": "IpU6yUHx8KIs"
      },
      "execution_count": null,
      "outputs": []
    },
    {
      "cell_type": "code",
      "source": [
        "# Manejar divisiones por cero si (VentasDiarias_Compañia + IngresosDiarias_Compañia) puede ser 0\n",
        "df['MargenBrutoDiario_%_Compañia'].replace([float('inf'), float('-inf')], 0, inplace=True) # Reemplazar infinitos por 0 (o NaN) si hay división por cero"
      ],
      "metadata": {
        "id": "f6vZwI_48MnW"
      },
      "execution_count": null,
      "outputs": []
    },
    {
      "cell_type": "code",
      "source": [
        "# Importamos el módulo 'files' de Google Colab\n",
        "from google.colab import files\n",
        "\n",
        "# Asumimos que tu DataFrame (la tabla con tus resultados) se llama 'df_tu_resultado'.\n",
        "# ¡CAMBIA 'df_tu_resultado' por el nombre real de tu DataFrame!\n",
        "# También, cambia 'nombre_que_quieras_para_el_archivo.csv' por el nombre que prefieras.\n",
        "\n",
        "nombre_del_archivo = 'df_company_daily' # Define el nombre del archivo como una variable de tipo string\n",
        "\n",
        "# Asegúrate de usar el nombre correcto de tu DataFrame (probablemente df_company_daily)\n",
        "df_company_daily.to_csv(nombre_del_archivo, index=False) # index=False es para no guardar el índice numérico de la tabla\n",
        "\n",
        "# Esto iniciará la descarga en tu navegador\n",
        "files.download(nombre_del_archivo)"
      ],
      "metadata": {
        "id": "En8Lk5TUOo1Q"
      },
      "execution_count": null,
      "outputs": []
    },
    {
      "cell_type": "code",
      "source": [],
      "metadata": {
        "id": "VWXzSxVWOodt"
      },
      "execution_count": null,
      "outputs": []
    },
    {
      "cell_type": "code",
      "source": [
        "# Crear features basadas en la fecha\n",
        "df_company_daily['Año'] = df_company_daily.index.year\n",
        "df_company_daily['Mes'] = df_company_daily.index.month\n",
        "df_company_daily['DiaDelMes'] = df_company_daily.index.day\n",
        "df_company_daily['DiaDeLaSemana'] = df_company_daily.index.dayofweek # Lunes=0, Domingo=6\n",
        "df_company_daily['NombreDiaSemana'] = df_company_daily.index.day_name() # 0Nombre del día (ej. 'Monday')\n",
        "df_company_daily['SemanaDelAño'] = df_company_daily.index.isocalendar().week.astype(int) # Semana del año"
      ],
      "metadata": {
        "id": "AIgFFHod8m5e"
      },
      "execution_count": null,
      "outputs": []
    },
    {
      "cell_type": "code",
      "source": [
        "# Feature booleana para fin de semana\n",
        "df_company_daily['EsFinDeSemana'] = df_company_daily['DiaDeLaSemana'].apply(lambda x: 1 if x >= 5 else 0) # 1 si es sábado o domingo, 0 si no"
      ],
      "metadata": {
        "id": "DV11DOML_Hlo"
      },
      "execution_count": null,
      "outputs": []
    },
    {
      "cell_type": "code",
      "source": [
        "# Feature para identificar el último día del mes (a menudo hay picos o ajustes)\n",
        "df_company_daily['EsUltimoDiaDelMes'] = df_company_daily.index.is_month_end.astype(int) # 1 si es fin de mes, 0 si no"
      ],
      "metadata": {
        "id": "OjLnf65z_He9"
      },
      "execution_count": null,
      "outputs": []
    },
    {
      "cell_type": "code",
      "source": [
        "# Crear Lags para la variable objetivo (MargenBrutoDiario_Compañia) y quizás otras variables clave\n",
        "df_company_daily['Margen_Lag1'] = df_company_daily['MargenBrutoDiario_Compañia'].shift(1) # Margen del día anterior\n",
        "df_company_daily['Margen_Lag7'] = df_company_daily['MargenBrutoDiario_Compañia'].shift(7) # Margen de hace una semana\n",
        "# Puedes añadir más lags (ej. 2, 3, 14, 30 días)\n",
        "\n"
      ],
      "metadata": {
        "id": "FTRWWWOA_HT2"
      },
      "execution_count": null,
      "outputs": []
    },
    {
      "cell_type": "code",
      "source": [
        "# Crear Rolling Statistics (ej. Media móvil de 7 días para Ventas)\n",
        "df_company_daily['Ventas_MA7'] = df_company_daily['VentasDiarias_Compañia'].rolling(window=7).mean()\n",
        "df_company_daily['Margen_MA7'] = df_company_daily['MargenBrutoDiario_Compañia'].rolling(window=7).mean()\n",
        "# Puedes añadir otras ventanas (ej. 30 días) y otras estadísticas (sum, std, min, max)"
      ],
      "metadata": {
        "id": "2rcPJcL8ATqN"
      },
      "execution_count": null,
      "outputs": []
    },
    {
      "cell_type": "code",
      "source": [
        "# Restablecer el índice antes de volver a configurarlo\n",
        "df_company_daily = df_company_daily.reset_index()\n",
        "\n",
        "# Ahora sí, configura 'Date' como índice\n",
        "df_company_daily = df_company_daily.set_index('Date')"
      ],
      "metadata": {
        "id": "_MmSyBZyAX-2"
      },
      "execution_count": null,
      "outputs": []
    },
    {
      "cell_type": "code",
      "source": [
        "import matplotlib.pyplot as plt # Librería estándar para crear gráficos\n",
        "import seaborn as sns # Librería construida sobre matplotlib, hace gráficos más estéticos y complejos fácilmente"
      ],
      "metadata": {
        "id": "qKQ63C_LAtJN"
      },
      "execution_count": null,
      "outputs": []
    },
    {
      "cell_type": "code",
      "source": [
        "print(\"\\nVisualización de la Serie de Tiempo del Margen Bruto Diario de la Compañía:\")\n",
        "plt.figure(figsize=(12, 6)) # Crea una figura para el gráfico (ajusta el tamaño)\n",
        "plt.plot(df_company_daily.index, df_company_daily['MargenBrutoDiario_Compañia']) # Crea el gráfico de línea\n",
        "plt.title('Serie de Tiempo de Margen Bruto Diario de la Compañía') # Título del gráfico\n",
        "plt.xlabel('Fecha') # Etiqueta del eje X\n",
        "plt.ylabel('Margen Bruto Diario') # Etiqueta del eje Y\n",
        "plt.grid(True) # Añade una cuadrícula\n",
        "plt.show() # Muestra el gráfico\n"
      ],
      "metadata": {
        "id": "Q0dNNnfrAxIX"
      },
      "execution_count": null,
      "outputs": []
    },
    {
      "cell_type": "code",
      "source": [
        "df.head()"
      ],
      "metadata": {
        "id": "UnY09VrcBMCJ"
      },
      "execution_count": null,
      "outputs": []
    },
    {
      "cell_type": "code",
      "source": [
        "# Histograma del Margen Bruto Diario para ver su distribución\n",
        "print(\"\\nDistribución del Margen Bruto Diario:\")\n",
        "plt.figure(figsize=(8, 5))\n",
        "sns.histplot(df_company_daily['MargenBrutoDiario_Compañia'], kde=True) # histograma con línea de densidad estimada\n",
        "plt.title('Histograma de Margen Bruto Diario')\n",
        "plt.xlabel('Margen Bruto Diario')\n",
        "plt.ylabel('Frecuencia')\n",
        "plt.show()\n",
        "\n"
      ],
      "metadata": {
        "id": "w71tCbbbBnyr"
      },
      "execution_count": null,
      "outputs": []
    },
    {
      "cell_type": "code",
      "source": [
        "# Matriz de Correlación (entre variables numéricas diarias)\n",
        "print(\"\\nMatriz de Correlación:\")\n",
        "correlation_matrix = df_company_daily[['VentasDiarias_Compañia', 'CostosDiarias_Compañia', 'IngresosDiarias_Compañia', 'MargenBrutoDiario_Compañia', 'Margen_Lag1', 'Ventas_MA7']].corr() # Incluye tus features numéricas relevantes\n",
        "plt.figure(figsize=(8, 6))\n",
        "sns.heatmap(correlation_matrix, annot=True, cmap='coolwarm', fmt=\".2f\") # Mapa de calor con valores\n",
        "plt.title('Matriz de Correlación')\n",
        "plt.show()"
      ],
      "metadata": {
        "id": "nCOrURM1BotS"
      },
      "execution_count": null,
      "outputs": []
    },
    {
      "cell_type": "code",
      "source": [
        "# Box Plot del Margen Bruto Diario por Día de la Semana (para ver estacionalidad semanal)\n",
        "print(\"\\nBox Plot de Margen Bruto Diario por Día de la Semana:\")\n",
        "plt.figure(figsize=(10, 6))\n",
        "sns.boxplot(x='NombreDiaSemana', y='MargenBrutoDiario_Compañia', data=df_company_daily) # Usa el nombre del día\n",
        "plt.title('Margen Bruto Diario por Día de la Semana')\n",
        "plt.xlabel('Día de la Semana')\n",
        "plt.ylabel('Margen Bruto Diario')\n",
        "plt.show()"
      ],
      "metadata": {
        "id": "yQuuSHxSBwaA"
      },
      "execution_count": null,
      "outputs": []
    },
    {
      "cell_type": "code",
      "source": [
        "import pandas as pd\n",
        "import numpy as np\n",
        "from sklearn.linear_model import LinearRegression\n",
        "import matplotlib.pyplot as plt\n",
        "\n",
        "# Leer archivo (ajustar ruta)\n",
        "df = pd.read_csv(\"BD.csv\", parse_dates=['date'], dayfirst=True)\n",
        "\n",
        "# Ordenar por fecha\n",
        "df.sort_values('date', inplace=True)\n",
        "\n",
        "# Crear columna de días transcurridos desde la primera fecha\n",
        "df['dias'] = (df['date'] - df['date'].min()).dt.days\n",
        "\n",
        "# Calcular ventas acumuladas\n",
        "df['ventas_acumuladas'] = df['ventas'].cumsum()\n",
        "\n",
        "# Definir X (días) e y (ventas acumuladas)\n",
        "X = df[['dias']]\n",
        "y = df['ventas_acumuladas']\n",
        "\n",
        "# Ajustar modelo de regresión\n",
        "modelo = LinearRegression()\n",
        "modelo.fit(X, y)\n",
        "\n",
        "# Predicciones\n",
        "df['prediccion'] = modelo.predict(X)\n",
        "\n",
        "# Visualización\n",
        "plt.figure(figsize=(10, 5))\n",
        "plt.plot(df['date'], df['ventas_acumuladas'], label='Ventas Acumuladas', marker='o')\n",
        "plt.plot(df['date'], df['prediccion'], label='Predicción', linestyle='--')\n",
        "plt.xlabel('Fecha')\n",
        "plt.ylabel('Ventas Acumuladas')\n",
        "plt.title('Regresión Lineal sobre Ventas Acumuladas')\n",
        "plt.legend()\n",
        "plt.grid(True)\n",
        "plt.xticks(rotation=45)\n",
        "plt.tight_layout()\n",
        "plt.show()\n"
      ],
      "metadata": {
        "id": "aEdEn2Y46OG1"
      },
      "execution_count": null,
      "outputs": []
    }
  ]
}